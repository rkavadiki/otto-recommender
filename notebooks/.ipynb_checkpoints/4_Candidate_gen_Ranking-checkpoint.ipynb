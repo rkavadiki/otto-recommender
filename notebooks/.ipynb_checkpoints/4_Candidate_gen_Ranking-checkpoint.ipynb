{
 "cells": [
  {
   "cell_type": "code",
   "execution_count": 1,
   "id": "741685bf",
   "metadata": {
    "tags": []
   },
   "outputs": [
    {
     "name": "stdout",
     "output_type": "stream",
     "text": [
      "Requirement already satisfied: gensim in /usr/local/lib/python3.9/dist-packages (4.3.1)\n",
      "Requirement already satisfied: polars in /usr/local/lib/python3.9/dist-packages (0.18.13)\n",
      "Requirement already satisfied: annoy in /usr/local/lib/python3.9/dist-packages (1.17.3)\n",
      "Requirement already satisfied: smart-open>=1.8.1 in /usr/local/lib/python3.9/dist-packages (from gensim) (6.3.0)\n",
      "Requirement already satisfied: scipy>=1.7.0 in /usr/local/lib/python3.9/dist-packages (from gensim) (1.8.1)\n",
      "Requirement already satisfied: numpy>=1.18.5 in /usr/local/lib/python3.9/dist-packages (from gensim) (1.23.5)\n",
      "\u001b[33mWARNING: Running pip as the 'root' user can result in broken permissions and conflicting behaviour with the system package manager. It is recommended to use a virtual environment instead: https://pip.pypa.io/warnings/venv\u001b[0m\u001b[33m\n",
      "\u001b[0m\n",
      "\u001b[1m[\u001b[0m\u001b[34;49mnotice\u001b[0m\u001b[1;39;49m]\u001b[0m\u001b[39;49m A new release of pip is available: \u001b[0m\u001b[31;49m23.0\u001b[0m\u001b[39;49m -> \u001b[0m\u001b[32;49m23.2.1\u001b[0m\n",
      "\u001b[1m[\u001b[0m\u001b[34;49mnotice\u001b[0m\u001b[1;39;49m]\u001b[0m\u001b[39;49m To update, run: \u001b[0m\u001b[32;49mpython3 -m pip install --upgrade pip\u001b[0m\n"
     ]
    }
   ],
   "source": [
    "!pip3 install gensim polars annoy"
   ]
  },
  {
   "cell_type": "code",
   "execution_count": 2,
   "id": "0675367a-95cd-4de0-916d-ecdfc4eaee17",
   "metadata": {
    "tags": []
   },
   "outputs": [],
   "source": [
    "import pandas as pd\n",
    "import numpy as np\n",
    "import glob\n",
    "import itertools\n",
    "from collections import Counter\n",
    "import polars as pl\n",
    "from gensim.models import Word2Vec\n",
    "from annoy import AnnoyIndex"
   ]
  },
  {
   "cell_type": "code",
   "execution_count": 3,
   "id": "36115487-6a6e-45af-911b-2393ed9680c9",
   "metadata": {
    "tags": []
   },
   "outputs": [],
   "source": [
    "DISK_PIECES = 4\n",
    "data_dir = \"../data/\"\n",
    "type_labels = {'clicks':0, 'carts':1, 'orders':2}\n",
    "type_weight = {0:1, 1:6, 2:3}"
   ]
  },
  {
   "cell_type": "code",
   "execution_count": 4,
   "id": "323d11db",
   "metadata": {
    "tags": []
   },
   "outputs": [],
   "source": [
    "def load_data(path):    \n",
    "    dfs = []\n",
    "    for e, chunk_file in enumerate(glob.glob(path)):\n",
    "        chunk = pd.read_parquet(chunk_file)\n",
    "        dfs.append(chunk)\n",
    "    return pd.concat(dfs).reset_index(drop=True) #.astype({\"ts\": \"datetime64[ms]\"})\n"
   ]
  },
  {
   "cell_type": "code",
   "execution_count": 5,
   "id": "5a0615ed",
   "metadata": {
    "tags": []
   },
   "outputs": [
    {
     "name": "stdout",
     "output_type": "stream",
     "text": [
      "shape (216716096, 4) (6928123, 4)\n"
     ]
    }
   ],
   "source": [
    "train_df = load_data(f'{data_dir}/train_pqt_chunks/*')\n",
    "test_df = load_data(f'{data_dir}/test_pqt_chunks/*')\n",
    "\n",
    "print('shape',train_df.shape, test_df.shape)"
   ]
  },
  {
   "cell_type": "code",
   "execution_count": null,
   "id": "05aafb0e-325d-4be8-b57e-0c9c4fe43abe",
   "metadata": {
    "tags": []
   },
   "outputs": [],
   "source": [
    "sentences_df = pl.from_pandas(pd.concat([train_df,test_df])).groupby('session').agg(pl.col('aid').alias('sentence'))\n",
    "sentences = sentences_df['sentence'].to_list()\n",
    "w2vec = Word2Vec(sentences=sentences, vector_size=32, min_count=1, workers=6)\n",
    "w2vec.save(\"../models/otto_word2vec.model\")\n",
    "del sentences_df, sentences, w2vec"
   ]
  },
  {
   "cell_type": "code",
   "execution_count": 6,
   "id": "7b196e99-60c5-4ee6-8ca9-350faf622d77",
   "metadata": {
    "tags": []
   },
   "outputs": [],
   "source": [
    "w2vec = Word2Vec.load(\"../models/otto_word2vec.model\")\n",
    "embedding_weight = np.load('../models/otto_word2vec.model.wv.vectors.npy')\n",
    "embedding_weight_neg = np.load('../models/otto_word2vec.model.syn1neg.npy')\n",
    "embedding_weigh_dict_df = pl.from_pandas(pd.DataFrame(embedding_weight, columns = ['Embedding_' + str(x) for x in range(32)]).reset_index().rename(columns = {'index':'aid'})).with_columns(pl.col('aid').cast(pl.Int32))\n",
    "\n",
    "\n",
    "aid2idx = {aid: i for i, aid in enumerate(w2vec.wv.index_to_key)}\n",
    "index = AnnoyIndex(32, 'euclidean')\n",
    "\n",
    "for aid, idx in aid2idx.items():\n",
    "    index.add_item(idx, w2vec.wv.vectors[idx])\n",
    "    \n",
    "index.build(10)\n",
    "\n",
    "def get_nn(aid,num_candidates):\n",
    "    return [w2vec.wv.index_to_key[i] for i in index.get_nns_by_item(aid2idx[aid], num_candidates+1)[1:]]"
   ]
  },
  {
   "cell_type": "code",
   "execution_count": 7,
   "id": "8cd82d86",
   "metadata": {
    "tags": []
   },
   "outputs": [
    {
     "name": "stdout",
     "output_type": "stream",
     "text": [
      "Here are size of our 3 co-visitation matrices:\n",
      "1837166 1168768 1837166\n"
     ]
    }
   ],
   "source": [
    "def pqt_to_dict(df):\n",
    "    return df.groupby('aid_x').aid_y.apply(list).to_dict()\n",
    "\n",
    "# LOAD THREE CO-VISITATION MATRICES\n",
    "top_40_clicks = pqt_to_dict( pd.read_parquet(f'{data_dir}top_40_clicks_0.pqt') )\n",
    "for k in range(1,DISK_PIECES): \n",
    "    top_40_clicks.update( pqt_to_dict( pd.read_parquet(f'{data_dir}top_40_clicks_{k}.pqt') ) )\n",
    "\n",
    "top_40_buys = pqt_to_dict( pd.read_parquet(f'{data_dir}top_40_carts_orders_0.pqt') )\n",
    "for k in range(1,DISK_PIECES): \n",
    "    top_40_buys.update( pqt_to_dict( pd.read_parquet(f'{data_dir}top_40_carts_orders_{k}.pqt') ) )\n",
    "top_40_buy2buy = pqt_to_dict( pd.read_parquet(f'{data_dir}top_40_buy2buy.pqt') )\n",
    "\n",
    "# TOP CLICKS AND ORDERS IN TEST\n",
    "top_clicks = test_df.loc[test_df['type']=='clicks','aid'].value_counts().index.values[:40]\n",
    "top_orders = test_df.loc[test_df['type']=='orders','aid'].value_counts().index.values[:40]\n",
    "\n",
    "print('Here are size of our 3 co-visitation matrices:')\n",
    "print( len( top_40_clicks ), len( top_40_buy2buy ), len( top_40_buys ) )"
   ]
  },
  {
   "cell_type": "code",
   "execution_count": 8,
   "id": "f9d6d6ae-1d57-45f5-ba9a-94acc869e4e2",
   "metadata": {
    "tags": []
   },
   "outputs": [],
   "source": [
    "type_weight_multipliers = {0: 3, 1: 6, 2: 3}\n",
    "def suggest_clicks(df,num_candidates):\n",
    "    # USER HISTORY AIDS AND TYPES\n",
    "    aids=df.aid.tolist()\n",
    "    types = df.type.tolist()\n",
    "    unique_aids = list(dict.fromkeys(aids[::-1] ))\n",
    "    # RERANK CANDIDATES USING WEIGHTS\n",
    "    if len(unique_aids)>=num_candidates:\n",
    "        weights=np.logspace(0.1,1,len(aids),base=2, endpoint=True)-1\n",
    "        aids_temp = Counter() \n",
    "        # RERANK BASED ON REPEAT ITEMS AND TYPE OF ITEMS\n",
    "        for aid,w,t in zip(aids,weights,types): \n",
    "            aids_temp[aid] += w * type_weight_multipliers[t]\n",
    "        sorted_aids = [k for k,v in aids_temp.most_common(num_candidates)]\n",
    "        return sorted_aids\n",
    "    # USE \"CLICKS\" CO-VISITATION MATRIX\n",
    "    aids2 = list(itertools.chain(*[top_40_clicks[aid] for aid in unique_aids if aid in top_40_clicks]))\n",
    "    #WORD2VEC CANDIDATES based on last 5 aids\n",
    "    recent_aids=aids[::-1]\n",
    "    word2vec_candidates = list(itertools.chain(*[get_nn(recent_aids[i],num_candidates) for i in range(min(5,len(recent_aids)))]))\n",
    "    #Matrix Factorization based candidates\n",
    "    #matrix_fact_candidates = list(itertools.chain(*[aid_matrix_fact[recent_aids[i]] for i in range(min(5,len(recent_aids)))]))\n",
    "    # RERANK CANDIDATES\n",
    "    #top_aids2 = [aid2 for aid2, cnt in Counter(aids2+word2vec_candidates+matrix_fact_candidates).most_common(num_candidates) if aid2 not in unique_aids]\n",
    "    top_aids2 = [aid2 for aid2, cnt in Counter(aids2+word2vec_candidates).most_common(num_candidates) if aid2 not in unique_aids]\n",
    "    \n",
    "    result = unique_aids + top_aids2[:num_candidates - len(unique_aids)]\n",
    "    # USE TOP20 TEST CLICKS\n",
    "    return result + list(top_clicks)[:num_candidates-len(result)]\n",
    "\n",
    "def suggest_buys(df,num_candidates):\n",
    "    # USER HISTORY AIDS AND TYPES\n",
    "    aids=df.aid.tolist()\n",
    "    types = df.type.tolist()\n",
    "    # UNIQUE AIDS AND UNIQUE BUYS\n",
    "    unique_aids = list(dict.fromkeys(aids[::-1] ))\n",
    "    df = df.loc[(df['type']==1)|(df['type']==2)]\n",
    "    unique_buys = list(dict.fromkeys( df.aid.tolist()[::-1] ))\n",
    "    # RERANK CANDIDATES USING WEIGHTS\n",
    "    if len(unique_aids)>=num_candidates:\n",
    "        weights=np.logspace(0.5,1,len(aids),base=2, endpoint=True)-1\n",
    "        aids_temp = Counter() \n",
    "        # RERANK BASED ON REPEAT ITEMS AND TYPE OF ITEMS\n",
    "        for aid,w,t in zip(aids,weights,types): \n",
    "            aids_temp[aid] += w * type_weight_multipliers[t]\n",
    "        # RERANK CANDIDATES USING \"BUY2BUY\" CO-VISITATION MATRIX\n",
    "        aids3 = list(itertools.chain(*[top_20_buy2buy[aid] for aid in unique_buys if aid in top_20_buy2buy]))\n",
    "        for aid in aids3: aids_temp[aid] += 0.1\n",
    "        sorted_aids = [k for k,v in aids_temp.most_common(num_candidates)]\n",
    "        return sorted_aids\n",
    "    # USE \"CART ORDER\" CO-VISITATION MATRIX\n",
    "    aids2 = list(itertools.chain(*[top_20_buys[aid] for aid in unique_aids if aid in top_20_buys]))\n",
    "    # USE \"BUY2BUY\" CO-VISITATION MATRIX\n",
    "    aids3 = list(itertools.chain(*[top_20_buy2buy[aid] for aid in unique_buys if aid in top_20_buy2buy]))\n",
    "    # USE \"Word2vec\" Matrix\n",
    "    recent_aids=list(dict.fromkeys( df.loc[(df['type']==1)].aid.tolist()[::-1] ))\n",
    "    word2vec_candidates = list(itertools.chain(*[get_nn(recent_aids[i],num_candidates) for i in range(min(3,len(recent_aids)))]))\n",
    "    # RERANK CANDIDATES\n",
    "    top_aids2 = [aid2 for aid2, cnt in Counter(aids2+aids3+word2vec_candidates).most_common(num_candidates) if aid2 not in unique_aids] \n",
    "    result = unique_aids + top_aids2[:num_candidates - len(unique_aids)]\n",
    "    # USE TOP20 TEST ORDERS\n",
    "    return result + list(top_orders)[:num_candidates-len(result)]\n",
    "\n",
    "\n",
    "def click_recall_score(pred_df,test_labels):\n",
    "    score = 0\n",
    "    weights = {'clicks': 0.10, 'carts': 0.30, 'orders': 0.60}\n",
    "    for t in ['clicks']:\n",
    "        sub = pred_df.loc[pred_df.session_type.str.contains(t)].copy()\n",
    "        sub['session'] = sub.session_type.apply(lambda x: int(x.split('_')[0]))\n",
    "        sub.labels = sub.labels.apply(lambda x: [int(i) for i in x.split(' ')[:20]])\n",
    "        test_labels = test_labels.loc[test_labels['type']==t]\n",
    "        test_labels = test_labels.merge(sub, how='left', on=['session'])\n",
    "        \n",
    "        test_labels['hits'] = test_labels.apply(lambda df: len(set(df.ground_truth).intersection(set(df.labels))), axis=1)\n",
    "        test_labels['gt_count'] = test_labels.ground_truth.str.len().clip(0,20)\n",
    "        recall = test_labels['hits'].sum() / test_labels['gt_count'].sum()\n",
    "        score += weights[t]*recall\n",
    "        print(f'{t} recall =',recall)"
   ]
  },
  {
   "cell_type": "code",
   "execution_count": 9,
   "id": "549d5c3e-9eb7-47b5-bdab-6574d036cff3",
   "metadata": {
    "tags": []
   },
   "outputs": [
    {
     "data": {
      "text/html": [
       "<div>\n",
       "<style scoped>\n",
       "    .dataframe tbody tr th:only-of-type {\n",
       "        vertical-align: middle;\n",
       "    }\n",
       "\n",
       "    .dataframe tbody tr th {\n",
       "        vertical-align: top;\n",
       "    }\n",
       "\n",
       "    .dataframe thead th {\n",
       "        text-align: right;\n",
       "    }\n",
       "</style>\n",
       "<table border=\"1\" class=\"dataframe\">\n",
       "  <thead>\n",
       "    <tr style=\"text-align: right;\">\n",
       "      <th></th>\n",
       "      <th>session</th>\n",
       "      <th>type</th>\n",
       "      <th>labels</th>\n",
       "    </tr>\n",
       "  </thead>\n",
       "  <tbody>\n",
       "    <tr>\n",
       "      <th>0</th>\n",
       "      <td>0</td>\n",
       "      <td>0</td>\n",
       "      <td>[10268, 219925, 1140855, 915702, 480578, 11458...</td>\n",
       "    </tr>\n",
       "    <tr>\n",
       "      <th>1</th>\n",
       "      <td>0</td>\n",
       "      <td>1</td>\n",
       "      <td>[974651, 974651, 974651, 280978, 1521766, 1760...</td>\n",
       "    </tr>\n",
       "    <tr>\n",
       "      <th>2</th>\n",
       "      <td>0</td>\n",
       "      <td>2</td>\n",
       "      <td>[1199474, 543308]</td>\n",
       "    </tr>\n",
       "    <tr>\n",
       "      <th>3</th>\n",
       "      <td>1</td>\n",
       "      <td>0</td>\n",
       "      <td>[1464360, 207905, 1628317, 376932, 497868]</td>\n",
       "    </tr>\n",
       "    <tr>\n",
       "      <th>4</th>\n",
       "      <td>2</td>\n",
       "      <td>0</td>\n",
       "      <td>[1593105, 427698, 414004, 465360, 526287, 5671...</td>\n",
       "    </tr>\n",
       "  </tbody>\n",
       "</table>\n",
       "</div>"
      ],
      "text/plain": [
       "   session  type                                             labels\n",
       "0        0     0  [10268, 219925, 1140855, 915702, 480578, 11458...\n",
       "1        0     1  [974651, 974651, 974651, 280978, 1521766, 1760...\n",
       "2        0     2                                  [1199474, 543308]\n",
       "3        1     0         [1464360, 207905, 1628317, 376932, 497868]\n",
       "4        2     0  [1593105, 427698, 414004, 465360, 526287, 5671..."
      ]
     },
     "execution_count": 9,
     "metadata": {},
     "output_type": "execute_result"
    }
   ],
   "source": [
    "train_df = pd.read_parquet(f\"{data_dir}local_cv/3week_train_data.parquet\")\n",
    "train_df = train_df[train_df.type==0]\n",
    "\n",
    "\n",
    "test_labels = pd.read_parquet(\"../data/local_cv/4week_train_labels.parquet\")\n",
    "test_labels.head()"
   ]
  },
  {
   "cell_type": "code",
   "execution_count": 10,
   "id": "bad0cfee-a5b0-4adb-a041-5fa837cb31dc",
   "metadata": {
    "tags": []
   },
   "outputs": [],
   "source": [
    "pred_df_clicks = train_df.sort_values([\"session\", \"ts\"]).groupby([\"session\"]).apply(\n",
    "    lambda x: suggest_clicks(x,20)\n",
    ")\n",
    "\n",
    "del train_df, top_40_clicks, w2vec, embedding_weight, embedding_weight_neg, embedding_weigh_dict_df, index"
   ]
  },
  {
   "cell_type": "code",
   "execution_count": 11,
   "id": "992a099d-2f42-441b-a5bf-4f0a5620196a",
   "metadata": {
    "tags": []
   },
   "outputs": [
    {
     "data": {
      "text/html": [
       "<div><style>\n",
       ".dataframe > thead > tr > th,\n",
       ".dataframe > tbody > tr > td {\n",
       "  text-align: right;\n",
       "}\n",
       "</style>\n",
       "<small>shape: (5, 5)</small><table border=\"1\" class=\"dataframe\"><thead><tr><th>session</th><th>aid</th><th>ts</th><th>type</th><th>CG_ranking</th></tr><tr><td>i32</td><td>i32</td><td>i32</td><td>i8</td><td>i64</td></tr></thead><tbody><tr><td>8643220</td><td>1189975</td><td>0</td><td>0</td><td>0</td></tr><tr><td>8643220</td><td>573273</td><td>0</td><td>0</td><td>1</td></tr><tr><td>8643220</td><td>1405280</td><td>0</td><td>0</td><td>2</td></tr><tr><td>8643220</td><td>1768884</td><td>0</td><td>0</td><td>3</td></tr><tr><td>8643220</td><td>406885</td><td>0</td><td>0</td><td>4</td></tr></tbody></table></div>"
      ],
      "text/plain": [
       "shape: (5, 5)\n",
       "┌─────────┬─────────┬─────┬──────┬────────────┐\n",
       "│ session ┆ aid     ┆ ts  ┆ type ┆ CG_ranking │\n",
       "│ ---     ┆ ---     ┆ --- ┆ ---  ┆ ---        │\n",
       "│ i32     ┆ i32     ┆ i32 ┆ i8   ┆ i64        │\n",
       "╞═════════╪═════════╪═════╪══════╪════════════╡\n",
       "│ 8643220 ┆ 1189975 ┆ 0   ┆ 0    ┆ 0          │\n",
       "│ 8643220 ┆ 573273  ┆ 0   ┆ 0    ┆ 1          │\n",
       "│ 8643220 ┆ 1405280 ┆ 0   ┆ 0    ┆ 2          │\n",
       "│ 8643220 ┆ 1768884 ┆ 0   ┆ 0    ┆ 3          │\n",
       "│ 8643220 ┆ 406885  ┆ 0   ┆ 0    ┆ 4          │\n",
       "└─────────┴─────────┴─────┴──────┴────────────┘"
      ]
     },
     "execution_count": 11,
     "metadata": {},
     "output_type": "execute_result"
    }
   ],
   "source": [
    "train_df_click_recommended = pl.from_pandas(pd.DataFrame(pred_df_clicks, columns = ['aid']).reset_index()).explode(\"aid\")\n",
    "train_df_click_recommended = train_df_click_recommended.with_columns([\n",
    "    pl.lit(0).alias('ts').cast(pl.Int32),    \n",
    "    pl.lit(0).alias('type').cast(pl.Int8),\n",
    "    pl.col('session').cast(pl.Int32),\n",
    "    pl.col('aid').cast(pl.Int32),\n",
    "])\n",
    "\n",
    "n_col_after_join = train_df_click_recommended.groupby('session').agg([\n",
    "    pl.col('aid').cumcount().alias('CG_ranking')]).select(\n",
    "    pl.col('CG_ranking').explode().cast(pl.Int64))\n",
    "train_df_click_recommended = pl.concat([train_df_click_recommended, n_col_after_join], how=\"horizontal\")\n",
    "\n",
    "train_df_click_recommended.head()\n"
   ]
  },
  {
   "cell_type": "code",
   "execution_count": 12,
   "id": "2f99d072-fd89-421f-95bc-e08fdcd67db0",
   "metadata": {
    "tags": []
   },
   "outputs": [
    {
     "data": {
      "text/html": [
       "<div>\n",
       "<style scoped>\n",
       "    .dataframe tbody tr th:only-of-type {\n",
       "        vertical-align: middle;\n",
       "    }\n",
       "\n",
       "    .dataframe tbody tr th {\n",
       "        vertical-align: top;\n",
       "    }\n",
       "\n",
       "    .dataframe thead th {\n",
       "        text-align: right;\n",
       "    }\n",
       "</style>\n",
       "<table border=\"1\" class=\"dataframe\">\n",
       "  <thead>\n",
       "    <tr style=\"text-align: right;\">\n",
       "      <th></th>\n",
       "      <th>session_type</th>\n",
       "      <th>labels</th>\n",
       "    </tr>\n",
       "  </thead>\n",
       "  <tbody>\n",
       "    <tr>\n",
       "      <th>0</th>\n",
       "      <td>8643220_clicks</td>\n",
       "      <td>1189975 573273 1405280 1768884 406885 226746 1...</td>\n",
       "    </tr>\n",
       "    <tr>\n",
       "      <th>1</th>\n",
       "      <td>8643221_clicks</td>\n",
       "      <td>111691 921137 501445 1189046 700518 1355112 32...</td>\n",
       "    </tr>\n",
       "    <tr>\n",
       "      <th>2</th>\n",
       "      <td>8643222_clicks</td>\n",
       "      <td>1104129 1772730 1568399 1410436 756920 1029653...</td>\n",
       "    </tr>\n",
       "    <tr>\n",
       "      <th>3</th>\n",
       "      <td>8643223_clicks</td>\n",
       "      <td>1742315 1811963 206418 1292042 390163 474743 1...</td>\n",
       "    </tr>\n",
       "    <tr>\n",
       "      <th>4</th>\n",
       "      <td>8643224_clicks</td>\n",
       "      <td>471589 778561 1106262 1706288 1502227 933835 2...</td>\n",
       "    </tr>\n",
       "  </tbody>\n",
       "</table>\n",
       "</div>"
      ],
      "text/plain": [
       "     session_type                                             labels\n",
       "0  8643220_clicks  1189975 573273 1405280 1768884 406885 226746 1...\n",
       "1  8643221_clicks  111691 921137 501445 1189046 700518 1355112 32...\n",
       "2  8643222_clicks  1104129 1772730 1568399 1410436 756920 1029653...\n",
       "3  8643223_clicks  1742315 1811963 206418 1292042 390163 474743 1...\n",
       "4  8643224_clicks  471589 778561 1106262 1706288 1502227 933835 2..."
      ]
     },
     "execution_count": 12,
     "metadata": {},
     "output_type": "execute_result"
    }
   ],
   "source": [
    "# calculate recall for ranking\n",
    "pred_df = pd.DataFrame(pred_df_clicks.add_suffix(\"_clicks\"), columns=[\"labels\"]).reset_index()\n",
    "clicks_pred_df = pd.DataFrame(pred_df_clicks.add_suffix(\"_clicks\"), columns=[\"labels\"]).reset_index()\n",
    "pred_df.columns = [\"session_type\", \"labels\"]\n",
    "pred_df[\"labels\"] = pred_df[\"labels\"].map(lambda x:x[0:20])\n",
    "pred_df[\"labels\"] = pred_df.labels.apply(lambda x: \" \".join(map(str,x)))\n",
    "\n",
    "del pred_df_clicks\n",
    "pred_df.head()"
   ]
  },
  {
   "cell_type": "code",
   "execution_count": 13,
   "id": "9c2ad9f8-0ccf-46a3-96bf-5ab0f0375baf",
   "metadata": {
    "tags": []
   },
   "outputs": [],
   "source": [
    "aids = test_labels.labels.explode().astype('int32').rename('item')\n",
    "tar = test_labels[['session']].astype('int32').rename({'session':'user'},axis=1)\n",
    "tar = tar.merge(aids, left_index=True, right_index=True, how='left')\n",
    "tar['click'] = 1\n",
    "tar.columns = [\"session\",\"aid\",\"click\"]\n",
    "tar = pl.from_pandas(tar).with_columns([pl.col('session').cast(pl.Int32),pl.col('aid').cast(pl.Int32)])\n",
    "train_df_click_recommended = train_df_click_recommended.join(tar,on=['session','aid'],how='left').with_columns(pl.col(\"click\").fill_null(pl.lit(0),),)\n",
    "del tar, aids"
   ]
  },
  {
   "cell_type": "code",
   "execution_count": 14,
   "id": "81f17fbd-6531-49da-9f6a-4cc910541aae",
   "metadata": {},
   "outputs": [
    {
     "name": "stderr",
     "output_type": "stream",
     "text": [
      "/tmp/ipykernel_1836/711561186.py:1: DeprecationWarning: `the argument frac` for `sample` is deprecated. It has been renamed to `fraction`.\n",
      "  train_df_click_recommended = (train_df_click_recommended.filter(pl.col(\"click\") == 0).sample(frac=0.5)\n"
     ]
    }
   ],
   "source": [
    "train_df_click_recommended = (train_df_click_recommended.filter(pl.col(\"click\") == 0).sample(frac=0.5)\n",
    "                                .vstack(train_df_click_recommended.filter(pl.col(\"click\") == 1)))"
   ]
  },
  {
   "cell_type": "code",
   "execution_count": 15,
   "id": "74c14292-4ac8-4dc6-a2ff-18f298bcb38a",
   "metadata": {},
   "outputs": [],
   "source": [
    "aid_features = pl.read_parquet(\"../data/features/item_feat.pqt\").with_columns(pl.col('aid').cast(pl.Int32))\n",
    "train_df_click_recommended = train_df_click_recommended.join(aid_features, how='left',on=\"aid\")\n",
    "del aid_features\n",
    "\n",
    "user_features = pl.read_parquet(\"../data/features/user_feat.pqt\").with_columns(pl.col('session').cast(pl.Int32))\n",
    "train_df_click_recommended = train_df_click_recommended.join(user_features,how='left', on='session')\n",
    "del user_features\n",
    "\n",
    "user_item_features = pl.read_parquet(\"../data/features/user_item.pqt\").with_columns([pl.col('session').cast(pl.Int32),pl.col('aid').cast(pl.Int32)])\n",
    "train_df_click_recommended = train_df_click_recommended.join(user_item_features,how='left', on=['session','aid'])\n",
    "del user_item_features\n",
    "\n",
    "train_df_click_recommended = train_df_click_recommended.fill_null(-1) "
   ]
  },
  {
   "cell_type": "code",
   "execution_count": 16,
   "id": "ab1fc818-92be-4d04-b7a2-5869aa0e4870",
   "metadata": {},
   "outputs": [],
   "source": [
    "train_df_click_recommended = train_df_click_recommended.select(pl.exclude([\"__index_level_0__\",\"__index_level_0___right\",\"ts_right\",\"type_right\"]))"
   ]
  },
  {
   "cell_type": "code",
   "execution_count": 17,
   "id": "245b9178-a229-421a-8117-e28b768ca4b5",
   "metadata": {},
   "outputs": [
    {
     "data": {
      "text/html": [
       "<div><style>\n",
       ".dataframe > thead > tr > th,\n",
       ".dataframe > tbody > tr > td {\n",
       "  text-align: right;\n",
       "}\n",
       "</style>\n",
       "<small>shape: (5, 46)</small><table border=\"1\" class=\"dataframe\"><thead><tr><th>session</th><th>aid</th><th>ts</th><th>type</th><th>CG_ranking</th><th>click</th><th>item_overall_count</th><th>item_unique_session</th><th>item_type_score</th><th>item_common_day</th><th>item_mean_hour</th><th>item_click_cnt</th><th>item_cart_cnt</th><th>item_order_cnt</th><th>item_click_rate</th><th>item_cart_rate</th><th>item_order_rate</th><th>user_session_length</th><th>unique_aid</th><th>user_type_score</th><th>user_hh_mean</th><th>unique_days</th><th>unique_sessions</th><th>first_day</th><th>last_day</th><th>avg_clk_hr</th><th>avg_cart_hr</th><th>avg_ord_hr</th><th>user_click_cnt</th><th>user_cart_cnt</th><th>user_order_cnt</th><th>user_click_rate</th><th>user_cart_rate</th><th>user_order_rate</th><th>user_click_rate_per_session</th><th>user_cart_rate_per_session</th><th>user_order_rate_per_session</th><th>count_prev_click_action</th><th>count_prev_cart_action</th><th>count_prev_order_action</th><th>hist_click</th><th>hist_cart</th><th>hist_order</th><th>action_num_reverse_chrono</th><th>log_recency_score</th><th>type_weighted_log_recency_score</th></tr><tr><td>i32</td><td>i32</td><td>i32</td><td>i8</td><td>i64</td><td>i64</td><td>i64</td><td>i64</td><td>f64</td><td>i8</td><td>f64</td><td>f64</td><td>f64</td><td>f64</td><td>f64</td><td>f64</td><td>f64</td><td>i64</td><td>i64</td><td>f64</td><td>f64</td><td>i64</td><td>f64</td><td>i8</td><td>i8</td><td>f64</td><td>f64</td><td>f64</td><td>f64</td><td>f64</td><td>f64</td><td>f64</td><td>f64</td><td>f64</td><td>f64</td><td>f64</td><td>f64</td><td>f64</td><td>f64</td><td>f64</td><td>f64</td><td>f64</td><td>f64</td><td>i64</td><td>f64</td><td>f64</td></tr></thead><tbody><tr><td>8643220</td><td>1189975</td><td>0</td><td>0</td><td>0</td><td>0</td><td>8895</td><td>4953</td><td>0.071388</td><td>6</td><td>13.639236</td><td>8379.0</td><td>397.0</td><td>119.0</td><td>0.94199</td><td>0.044632</td><td>0.013378</td><td>2</td><td>2</td><td>0.0</td><td>22.0</td><td>1</td><td>1.0</td><td>6</td><td>6</td><td>22.0</td><td>-1.0</td><td>-1.0</td><td>2.0</td><td>0.0</td><td>0.0</td><td>1.0</td><td>0.0</td><td>0.0</td><td>2.0</td><td>0.0</td><td>0.0</td><td>0.0</td><td>-1.0</td><td>-1.0</td><td>-1.0</td><td>-1.0</td><td>-1.0</td><td>0</td><td>1.0</td><td>1.0</td></tr><tr><td>10255369</td><td>647651</td><td>0</td><td>0</td><td>9</td><td>0</td><td>1092</td><td>611</td><td>0.157509</td><td>0</td><td>12.875458</td><td>957.0</td><td>98.0</td><td>37.0</td><td>0.876374</td><td>0.089744</td><td>0.033883</td><td>3</td><td>1</td><td>0.0</td><td>12.666667</td><td>1</td><td>1.0</td><td>4</td><td>4</td><td>12.666667</td><td>-1.0</td><td>-1.0</td><td>3.0</td><td>0.0</td><td>0.0</td><td>1.0</td><td>0.0</td><td>0.0</td><td>3.0</td><td>0.0</td><td>0.0</td><td>-1.0</td><td>-1.0</td><td>-1.0</td><td>-1.0</td><td>-1.0</td><td>-1.0</td><td>-1</td><td>-1.0</td><td>-1.0</td></tr><tr><td>8643220</td><td>1405280</td><td>0</td><td>0</td><td>2</td><td>0</td><td>14432</td><td>7293</td><td>0.113013</td><td>6</td><td>13.719997</td><td>13143.0</td><td>947.0</td><td>342.0</td><td>0.910685</td><td>0.065618</td><td>0.023697</td><td>2</td><td>2</td><td>0.0</td><td>22.0</td><td>1</td><td>1.0</td><td>6</td><td>6</td><td>22.0</td><td>-1.0</td><td>-1.0</td><td>2.0</td><td>0.0</td><td>0.0</td><td>1.0</td><td>0.0</td><td>0.0</td><td>2.0</td><td>0.0</td><td>0.0</td><td>-1.0</td><td>-1.0</td><td>-1.0</td><td>-1.0</td><td>-1.0</td><td>-1.0</td><td>-1</td><td>-1.0</td><td>-1.0</td></tr><tr><td>8643220</td><td>1768884</td><td>0</td><td>0</td><td>3</td><td>0</td><td>13381</td><td>6534</td><td>0.105448</td><td>2</td><td>13.836559</td><td>12273.0</td><td>805.0</td><td>303.0</td><td>0.917196</td><td>0.06016</td><td>0.022644</td><td>2</td><td>2</td><td>0.0</td><td>22.0</td><td>1</td><td>1.0</td><td>6</td><td>6</td><td>22.0</td><td>-1.0</td><td>-1.0</td><td>2.0</td><td>0.0</td><td>0.0</td><td>1.0</td><td>0.0</td><td>0.0</td><td>2.0</td><td>0.0</td><td>0.0</td><td>-1.0</td><td>-1.0</td><td>-1.0</td><td>-1.0</td><td>-1.0</td><td>-1.0</td><td>-1</td><td>-1.0</td><td>-1.0</td></tr><tr><td>8643220</td><td>406885</td><td>0</td><td>0</td><td>4</td><td>0</td><td>10103</td><td>5509</td><td>0.077403</td><td>6</td><td>13.659408</td><td>9475.0</td><td>474.0</td><td>154.0</td><td>0.93784</td><td>0.046917</td><td>0.015243</td><td>2</td><td>2</td><td>0.0</td><td>22.0</td><td>1</td><td>1.0</td><td>6</td><td>6</td><td>22.0</td><td>-1.0</td><td>-1.0</td><td>2.0</td><td>0.0</td><td>0.0</td><td>1.0</td><td>0.0</td><td>0.0</td><td>2.0</td><td>0.0</td><td>0.0</td><td>-1.0</td><td>-1.0</td><td>-1.0</td><td>-1.0</td><td>-1.0</td><td>-1.0</td><td>-1</td><td>-1.0</td><td>-1.0</td></tr></tbody></table></div>"
      ],
      "text/plain": [
       "shape: (5, 46)\n",
       "┌──────────┬─────────┬─────┬──────┬───┬────────────┬───────────────┬───────────────┬───────────────┐\n",
       "│ session  ┆ aid     ┆ ts  ┆ type ┆ … ┆ hist_order ┆ action_num_re ┆ log_recency_s ┆ type_weighted │\n",
       "│ ---      ┆ ---     ┆ --- ┆ ---  ┆   ┆ ---        ┆ verse_chrono  ┆ core          ┆ _log_recency_ │\n",
       "│ i32      ┆ i32     ┆ i32 ┆ i8   ┆   ┆ f64        ┆ ---           ┆ ---           ┆ score         │\n",
       "│          ┆         ┆     ┆      ┆   ┆            ┆ i64           ┆ f64           ┆ ---           │\n",
       "│          ┆         ┆     ┆      ┆   ┆            ┆               ┆               ┆ f64           │\n",
       "╞══════════╪═════════╪═════╪══════╪═══╪════════════╪═══════════════╪═══════════════╪═══════════════╡\n",
       "│ 8643220  ┆ 1189975 ┆ 0   ┆ 0    ┆ … ┆ -1.0       ┆ 0             ┆ 1.0           ┆ 1.0           │\n",
       "│ 10255369 ┆ 647651  ┆ 0   ┆ 0    ┆ … ┆ -1.0       ┆ -1            ┆ -1.0          ┆ -1.0          │\n",
       "│ 8643220  ┆ 1405280 ┆ 0   ┆ 0    ┆ … ┆ -1.0       ┆ -1            ┆ -1.0          ┆ -1.0          │\n",
       "│ 8643220  ┆ 1768884 ┆ 0   ┆ 0    ┆ … ┆ -1.0       ┆ -1            ┆ -1.0          ┆ -1.0          │\n",
       "│ 8643220  ┆ 406885  ┆ 0   ┆ 0    ┆ … ┆ -1.0       ┆ -1            ┆ -1.0          ┆ -1.0          │\n",
       "└──────────┴─────────┴─────┴──────┴───┴────────────┴───────────────┴───────────────┴───────────────┘"
      ]
     },
     "execution_count": 17,
     "metadata": {},
     "output_type": "execute_result"
    }
   ],
   "source": [
    "train_df_click_recommended.head()"
   ]
  },
  {
   "cell_type": "code",
   "execution_count": 18,
   "id": "c306b500-9e76-449b-b2f9-7a8f98eb65b1",
   "metadata": {
    "tags": []
   },
   "outputs": [],
   "source": [
    "train_df = pd.read_parquet(f\"{data_dir}local_cv/3week_train_data.parquet\")\n",
    "train_df = train_df[train_df.type==0]\n",
    "real_action = pl.from_pandas(train_df[[\"session\",\"aid\"]]).with_columns([pl.lit(1).alias('real_action'),pl.col('session').cast(pl.Int32),pl.col('aid').cast(pl.Int32)])\n",
    "del train_df\n",
    "train_df_click_recommended = train_df_click_recommended.join(real_action,how='left', on=['session','aid']).with_columns(pl.col(\"real_action\").fill_null(pl.lit(0),),)\n",
    "del real_action"
   ]
  },
  {
   "cell_type": "code",
   "execution_count": null,
   "id": "520c54d6-3627-4a45-9c06-db9e89897d77",
   "metadata": {
    "tags": []
   },
   "outputs": [],
   "source": [
    "candidates = train_df_click_recommended.to_pandas()\n",
    "del train_df_click_recommended\n",
    "#candidates.loc[candidates.aid.isin(top_clicks_l3days),\"is_top_clicks_3days\"] = 1\n",
    "#candidates.loc[candidates.aid.isin(top_clicks_l1days),\"is_top_clicks_1days\"] = 1\n",
    "#candidates.loc[candidates.aid.isin(top_clicks),\"is_top_clicks_7days\"] = 1\n",
    "#candidates.fillna(value = {\"is_top_clicks_3days\": 0, \"is_top_clicks_1days\": 0, \"is_top_clicks_7days\": 0},inplace=True)\n",
    "candidates.head()"
   ]
  },
  {
   "cell_type": "code",
   "execution_count": null,
   "id": "abb55058-99a5-4f90-9570-1b0389065e20",
   "metadata": {},
   "outputs": [],
   "source": [
    "candidates.click = candidates.click.astype(int)\n",
    "candidates[\"click\"].value_counts()"
   ]
  },
  {
   "cell_type": "code",
   "execution_count": null,
   "id": "9fbc6fa3-6340-42dd-99ec-65e2563d2773",
   "metadata": {},
   "outputs": [],
   "source": [
    "test_sessions = random.choices(candidates.session.unique(), k=candidates.session.nunique()//2)\n",
    "test_candidates = candidates[candidates.session.isin(test_sessions)]\n",
    "train_candidates = candidates[~candidates.session.isin(test_sessions)]\n",
    "print(train_candidates.shape,test_candidates.shape)"
   ]
  },
  {
   "cell_type": "code",
   "execution_count": null,
   "id": "591880e0-5f7e-4e39-bd39-a553479e706c",
   "metadata": {},
   "outputs": [],
   "source": [
    "FEATURES = for col in train_candidates.columns.values.tolist() if col not in [\"session\",\"aid\",\"click\",\"ts\",\"type\"]\n",
    "FEATURES"
   ]
  },
  {
   "cell_type": "code",
   "execution_count": null,
   "id": "711f4157-7c49-4cc1-a612-0b325417ff2f",
   "metadata": {},
   "outputs": [],
   "source": [
    "space={'max_depth': hp.quniform(\"max_depth\", 3, 12, 1),\n",
    "        'colsample_bytree' : hp.uniform('colsample_bytree', 0.5,1),\n",
    "        'min_child_weight' : hp.quniform('min_child_weight', 1000, 100000, 1000),\n",
    "        'num_boost_round': hp.quniform('num_boost_round', 50,1000,50),\n",
    "        'subsample': hp.uniform('learning_rate', 0.4,1),\n",
    "        'objective':hp.choice('objective',['rank:pairwise','rank:ndcg','rank:map']),\n",
    "        'seed': 0}"
   ]
  },
  {
   "cell_type": "code",
   "execution_count": null,
   "id": "8fd8f729-a60f-42b6-80a0-d59d16ec2554",
   "metadata": {},
   "outputs": [],
   "source": [
    "X_train = train_candidates.loc[:, FEATURES]\n",
    "y_train = train_candidates.loc[:, 'click']\n",
    "X_valid = test_candidates.loc[:, FEATURES]\n",
    "y_valid = test_candidates.loc[:, 'click']\n",
    "\n",
    "test_labels = test_labels[test_labels['type']==\"clicks\"]\n",
    "test_labels = test_labels[test_labels.session.isin(test_candidates[\"session\"].unique())]\n",
    "\n",
    "\n",
    "# IF YOU HAVE 50 CANDIDATE WE USE 50 BELOW\n",
    "dtrain = xgb.DMatrix(X_train, y_train, group=train_candidates[[\"session\"]].groupby(\"session\")['session'].count().values) \n",
    "dvalid = xgb.DMatrix(X_valid, y_valid, group=test_candidates[[\"session\"]].groupby(\"session\")['session'].count().values) \n",
    "def objective(space):\n",
    "    clf=xgb.train(params={'max_depth':int(space['max_depth']),\n",
    "                    'min_child_weight':int(space['min_child_weight']), \n",
    "                   'colsample_bytree':space['colsample_bytree'], \n",
    "                   'subsample' : space['subsample'],\n",
    "                    'tree_method': \"auto\",\n",
    "                    'objective' : space['objective']},\n",
    "                    num_boost_round = int(space['num_boost_round']),\n",
    "                      dtrain=dtrain,verbose_eval=100\n",
    "                        )\n",
    "    \n",
    "    preds = np.zeros(len(test_candidates))\n",
    "    predictions = test_candidates[['session','aid']].copy()\n",
    "    dtest = xgb.DMatrix(data=X_valid)\n",
    "    predictions['pred'] = clf.predict(dvalid)\n",
    "\n",
    "    predictions = predictions.sort_values(['session','pred'], ascending=[True,False]).reset_index(drop=True)\n",
    "    predictions['n'] = predictions.groupby('aid').aid.cumcount().astype('int8')\n",
    "    predictions = predictions.loc[predictions.n<20]\n",
    "    sub = predictions.groupby('session').aid.apply(list)\n",
    "    sub = sub.to_frame().reset_index()\n",
    "    sub.aid = sub.aid.apply(lambda x: \" \".join(map(str,x)))\n",
    "    sub.columns = ['session_type','labels']\n",
    "    \n",
    "    sub.session_type = sub.session_type.astype('str')+ '_clicks'\n",
    "    sub = sub.loc[sub.session_type.str.contains('clicks')].copy()\n",
    "    sub['session'] = sub.session_type.apply(lambda x: int(x.split('_')[0]))\n",
    "    sub.labels = sub.labels.apply(lambda x: [int(i) for i in x.split(' ')[:20]])\n",
    "    verify = test_labels.merge(sub, how='left', on=['session'])\n",
    "    verify.dropna(inplace=True)\n",
    "    verify['hits'] = verify.apply(lambda df: len(set(df.ground_truth).intersection(set(df.labels))), axis=1)\n",
    "    verify['gt_count'] = verify.ground_truth.str.len().clip(0,20)\n",
    "    recall = verify['hits'].sum() / verify['gt_count'].sum()\n",
    "    return {'loss': -recall, 'status': STATUS_OK }\n",
    "\n",
    "trials = Trials()\n",
    "\n",
    "best_hyperparams = fmin(fn = objective,\n",
    "                        space = space,\n",
    "                        algo = tpe.suggest,\n",
    "                        max_evals = 100,\n",
    "                        trials = trials)\n",
    "\n",
    "print(best_hyperparams)"
   ]
  },
  {
   "cell_type": "code",
   "execution_count": null,
   "id": "483054dd-a81c-40b5-98f9-01b18f109315",
   "metadata": {},
   "outputs": [],
   "source": []
  },
  {
   "cell_type": "code",
   "execution_count": null,
   "id": "5e2bcdf1-5b2c-4c93-a35b-2e6348d9876e",
   "metadata": {},
   "outputs": [],
   "source": []
  }
 ],
 "metadata": {
  "kernelspec": {
   "display_name": "Python 3 (ipykernel)",
   "language": "python",
   "name": "python3"
  },
  "language_info": {
   "codemirror_mode": {
    "name": "ipython",
    "version": 3
   },
   "file_extension": ".py",
   "mimetype": "text/x-python",
   "name": "python",
   "nbconvert_exporter": "python",
   "pygments_lexer": "ipython3",
   "version": "3.9.12"
  }
 },
 "nbformat": 4,
 "nbformat_minor": 5
}
