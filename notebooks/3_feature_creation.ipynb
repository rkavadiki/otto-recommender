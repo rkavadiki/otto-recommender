{
 "cells": [
  {
   "cell_type": "code",
   "execution_count": 1,
   "id": "74a8c574-4368-4366-ad4e-1dfe1aa7ae5c",
   "metadata": {
    "tags": []
   },
   "outputs": [
    {
     "name": "stdout",
     "output_type": "stream",
     "text": [
      "Requirement already satisfied: polars in /Users/rajesh.kavadiki/opt/anaconda3/lib/python3.9/site-packages (0.15.15)\n",
      "Requirement already satisfied: typing_extensions>=4.0.0 in /Users/rajesh.kavadiki/opt/anaconda3/lib/python3.9/site-packages (from polars) (4.1.1)\n",
      "\n",
      "\u001b[1m[\u001b[0m\u001b[34;49mnotice\u001b[0m\u001b[1;39;49m]\u001b[0m\u001b[39;49m A new release of pip is available: \u001b[0m\u001b[31;49m23.1.2\u001b[0m\u001b[39;49m -> \u001b[0m\u001b[32;49m23.2.1\u001b[0m\n",
      "\u001b[1m[\u001b[0m\u001b[34;49mnotice\u001b[0m\u001b[1;39;49m]\u001b[0m\u001b[39;49m To update, run: \u001b[0m\u001b[32;49mpip install --upgrade pip\u001b[0m\n"
     ]
    }
   ],
   "source": [
    "!pip3 install polars"
   ]
  },
  {
   "cell_type": "code",
   "execution_count": 2,
   "id": "88d30cbf-ed2a-43b4-9f9b-df95ceb0c9c3",
   "metadata": {
    "tags": []
   },
   "outputs": [],
   "source": [
    "from collections import defaultdict\n",
    "import pandas as pd\n",
    "from tqdm.notebook import tqdm\n",
    "import glob\n",
    "import numpy as np\n",
    "import multiprocessing\n",
    "import os\n",
    "import pickle\n",
    "import glob\n",
    "from collections import Counter\n",
    "import itertools\n",
    "import sys\n",
    "import gc\n",
    "import polars as pl"
   ]
  },
  {
   "cell_type": "code",
   "execution_count": 3,
   "id": "b6478367-4f99-482f-8b08-ca75acc0bc79",
   "metadata": {
    "tags": []
   },
   "outputs": [],
   "source": [
    "DISK_PIECES = 4\n",
    "data_dir = \"../data/\"\n",
    "type_labels = {'clicks':0, 'carts':1, 'orders':2}\n",
    "type_weight = {0:1, 1:6, 2:3}"
   ]
  },
  {
   "cell_type": "code",
   "execution_count": 4,
   "id": "b3d1b4bb-0ca1-4d8b-8ded-73f2140d595b",
   "metadata": {
    "tags": []
   },
   "outputs": [],
   "source": [
    "def load_data(dfs,path):    \n",
    "    for e, chunk_file in enumerate(glob.glob(path)):\n",
    "        chunk = pd.read_parquet(chunk_file)\n",
    "        dfs.append(chunk)\n",
    "    return pd.concat(dfs).reset_index(drop=True)"
   ]
  },
  {
   "cell_type": "code",
   "execution_count": 5,
   "id": "e6b04912-0027-4c35-b37b-3809727d66d1",
   "metadata": {
    "tags": []
   },
   "outputs": [
    {
     "name": "stdout",
     "output_type": "stream",
     "text": [
      "(216716096, 4) (6928123, 4)\n",
      "(223644219, 5)\n"
     ]
    }
   ],
   "source": [
    "train = load_data([],f'{data_dir}train_pqt_chunks/*')\n",
    "test = load_data([],f'{data_dir}test_pqt_chunks/*')\n",
    "print(train.shape,test.shape)\n",
    "df = pd.concat([train,test])\n",
    "del train,test\n",
    "df = df.sort_values(['session','ts']).reset_index()\n",
    "print(df.shape)"
   ]
  },
  {
   "cell_type": "code",
   "execution_count": null,
   "id": "dd322dac",
   "metadata": {},
   "outputs": [],
   "source": [
    "## The below code generates 3 kinds of features\n",
    "1. user features - these are session based features such as length of the session, avg hour,day of the session, number of adids that are clicked, carted and ordered within the session, along with how long was the session streached, first day and last day. \n",
    "2. user item features - these are based on sesion and adid=> features would include number of times the same adid was clicked/carted/ordered, historical clicks, recency score \n",
    "3. Item features - thes are item based features => features would include, unique sessions in which this adid was found, avg type, most common day, number of times this adid was clicked, carted or ordered."
   ]
  },
  {
   "cell_type": "markdown",
   "id": "8163f762-d28f-46e6-a51e-f2a7a0cd8486",
   "metadata": {
    "tags": []
   },
   "source": [
    "## Generating User Features"
   ]
  },
  {
   "cell_type": "code",
   "execution_count": null,
   "id": "12224191-3ecf-4d63-881a-fd639aa9dea5",
   "metadata": {
    "tags": []
   },
   "outputs": [],
   "source": [
    "dts = pd.to_datetime(df['ts'], unit='s') \n",
    "df['day'] = (dts.dt.weekday).astype('int8')\n",
    "df['hour'] = (dts.dt.hour).astype('int8')\n",
    "df['hm'] = (dts.dt.hour*100 + dts.dt.minute*100//60).astype('int16')"
   ]
  },
  {
   "cell_type": "code",
   "execution_count": null,
   "id": "47d4cd63-ed53-442c-b9fa-46af3fc6e04e",
   "metadata": {
    "tags": []
   },
   "outputs": [],
   "source": [
    "df[\"prev_ts\"]=df.sort_values(['session','ts']).groupby(['session'])['ts'].shift(1)\n",
    "df[\"session_break\"] = ((df.ts-df.prev_ts)>24*60*60)*1.0\n",
    "df.loc[df.prev_ts.isnull(),\"session_break\"]=1\n",
    "\n",
    "df[\"time_gap\"] = df[\"ts\"] - df[\"prev_ts\"]"
   ]
  },
  {
   "cell_type": "code",
   "execution_count": null,
   "id": "46e163d6-e809-47be-af85-208ef50ff97e",
   "metadata": {
    "tags": []
   },
   "outputs": [],
   "source": [
    "user_features = (df.groupby('session').agg({'session':'count',\n",
    "                                            'aid':'nunique',\n",
    "                                            'type':'mean',\n",
    "                                            'hour':'mean',\n",
    "                                            'day':'nunique',\n",
    "                                            'session_break':'sum'})\n",
    "                .rename(columns = {\"session\":\"user_session_length\",\n",
    "                                   \"aid\":\"unique_aid\",\n",
    "                                   \"type\":\"user_type_score\",\n",
    "                                   'hour':'user_hh_mean',\n",
    "                                   'day':'unique_days',\n",
    "                                   'session_break':'unique_sessions'})\n",
    "                .reset_index()\n",
    "                )\n",
    "user_features.head()"
   ]
  },
  {
   "cell_type": "code",
   "execution_count": null,
   "id": "6a632d96-9975-49de-9c0e-80ac2197d816",
   "metadata": {
    "tags": []
   },
   "outputs": [],
   "source": [
    "time_gap = df[df.session_break==0].groupby(\"session\").agg({\"time_gap\":\"mean\"}).reset_index()\n",
    "\n",
    "first_day = df.groupby('session').first().reset_index()[[\"session\",\"day\"]]\n",
    "first_day.columns=[\"session\",'first_day']\n",
    "\n",
    "last_day = df.groupby('session').last().reset_index()[[\"session\",\"day\"]]\n",
    "last_day.columns=[\"session\",'last_day']\n",
    "\n",
    "click_hour = df[df.type==0].groupby(\"session\").agg({\"hour\":\"mean\"}).reset_index()\n",
    "click_hour.columns=[\"session\",'avg_clk_hr']\n",
    "\n",
    "cart_hour = df[df.type==1].groupby(\"session\").agg({\"hour\":\"mean\"}).reset_index()\n",
    "cart_hour.columns=[\"session\",'avg_cart_hr']\n",
    "\n",
    "order_hour = df[df.type==2].groupby(\"session\").agg({\"hour\":\"mean\"}).reset_index()\n",
    "order_hour.columns=[\"session\",'avg_ord_hr']\n",
    "\n",
    "print(first_day.shape,last_day.shape,click_hour.shape,cart_hour.shape,order_hour.shape)\n",
    "\n",
    "interim = (first_day\n",
    "           .merge(last_day,how=\"left\",on=\"session\")\n",
    "           .merge(click_hour,how=\"left\",on=\"session\")\n",
    "           .merge(cart_hour,how=\"left\",on=\"session\")\n",
    "           .merge(order_hour,how=\"left\",on=\"session\")\n",
    ")\n",
    "interim = interim.fillna(-1)\n",
    "print(interim.shape)\n",
    "\n",
    "del first_day,last_day,click_hour,cart_hour,order_hour,\n",
    "\n",
    "user_features = user_features.merge(interim,how=\"left\",on=\"session\").fillna(-1)\n",
    "\n",
    "del interim"
   ]
  },
  {
   "cell_type": "code",
   "execution_count": null,
   "id": "a314da47-f3db-4503-a093-3115ed85f8d2",
   "metadata": {
    "tags": []
   },
   "outputs": [],
   "source": [
    "def getclk_car_order_counts(df):\n",
    "    x = pd.pivot_table(df, values='aid', index='session', columns='type',aggfunc='count').reset_index()\n",
    "    x = x.rename(columns={0:\"user_click_cnt\",1:\"user_cart_cnt\",2:\"user_order_cnt\"})\n",
    "    return x.fillna(0)\n",
    "\n",
    "temp = getclk_car_order_counts(df)\n",
    "del df\n",
    "\n",
    "print(user_features.shape,temp.shape)\n",
    "\n",
    "user_features = user_features.merge(temp,on=\"session\",how=\"inner\")\n",
    "del temp"
   ]
  },
  {
   "cell_type": "code",
   "execution_count": null,
   "id": "d64cf8be-03e6-49b5-9bd2-f2dd0d8b9058",
   "metadata": {
    "tags": []
   },
   "outputs": [],
   "source": [
    "user_features[\"user_click_rate\"] = user_features[\"user_click_cnt\"] / user_features[\"user_session_length\"]\n",
    "user_features[\"user_cart_rate\"] = user_features[\"user_cart_cnt\"] / user_features[\"user_session_length\"]\n",
    "user_features[\"user_order_rate\"] = user_features[\"user_order_cnt\"] / user_features[\"user_session_length\"]\n",
    "user_features[\"user_click_rate_per_session\"] = user_features[\"user_click_cnt\"] / user_features[\"unique_sessions\"]\n",
    "user_features[\"user_cart_rate_per_session\"] = user_features[\"user_cart_cnt\"] / user_features[\"unique_sessions\"]\n",
    "user_features[\"user_order_rate_per_session\"] = user_features[\"user_order_cnt\"] / user_features[\"unique_sessions\"]\n",
    "user_features.head()"
   ]
  },
  {
   "cell_type": "code",
   "execution_count": null,
   "id": "2c3282ee-0b75-4858-b2fc-410b736a61b0",
   "metadata": {
    "tags": []
   },
   "outputs": [],
   "source": [
    "print(user_features.shape)\n",
    "user_features.to_parquet(f\"{data_dir}features/user_feat.pqt\")"
   ]
  },
  {
   "cell_type": "code",
   "execution_count": null,
   "id": "2e83de31-4ca5-4e41-a3aa-73e6572405f4",
   "metadata": {
    "tags": []
   },
   "outputs": [],
   "source": [
    "del user_features"
   ]
  },
  {
   "cell_type": "markdown",
   "id": "e203f76f-e74c-44a6-9329-7b59208f9848",
   "metadata": {},
   "source": [
    "## Generating user Item Features"
   ]
  },
  {
   "cell_type": "code",
   "execution_count": null,
   "id": "43b21929-2983-4249-ac2b-042f0b4fd187",
   "metadata": {
    "tags": []
   },
   "outputs": [],
   "source": [
    "train = load_data([],f'{data_dir}train_pqt_chunks/*')\n",
    "test = load_data([],f'{data_dir}test_pqt_chunks/*')\n",
    "df = pd.concat([train,test])\n",
    "del train,test\n",
    "df = df.sort_values(['session','ts']).reset_index()"
   ]
  },
  {
   "cell_type": "code",
   "execution_count": null,
   "id": "c25bb59f-4455-41a4-b3ce-072f5d2ec97e",
   "metadata": {
    "tags": []
   },
   "outputs": [],
   "source": [
    "print(\"start\")\n",
    "df[\"count_prev_click_action\"] = df[df.type==0].groupby([\"session\",\"aid\"]).cumcount()\n",
    "df[\"count_prev_cart_action\"] = df[df.type==1].groupby([\"session\",\"aid\"]).cumcount()\n",
    "df[\"count_prev_order_action\"] = df[df.type==2].groupby([\"session\",\"aid\"]).cumcount()\n",
    "\n",
    "print(\"ph1\")\n",
    "df[\"click_cg_rank\"] = df[df.type==0].groupby([\"session\"]).cumcount(ascending=False)\n",
    "df['prev_click_cg_rank'] = df.groupby(['session','aid'])['click_cg_rank'].shift()\n",
    "df['hist_click'] = df[\"prev_click_cg_rank\"] - df[\"click_cg_rank\"]\n",
    "df.drop(columns=['click_cg_rank', 'prev_click_cg_rank'],inplace=True)\n",
    "\n",
    "print(\"ph2\")\n",
    "df[\"cart_cg_rank\"] = df[df.type==1].groupby([\"session\"]).cumcount(ascending=False)\n",
    "df['prev_cart_cg_rank'] = df.groupby(['session','aid'])['cart_cg_rank'].shift()\n",
    "df['hist_cart'] = df[\"prev_cart_cg_rank\"] - df[\"cart_cg_rank\"]\n",
    "df.drop(columns=['cart_cg_rank', 'prev_cart_cg_rank'],inplace=True)\n",
    "\n",
    "print(\"ph3\")\n",
    "df[\"order_cg_rank\"] = df[df.type==2].groupby([\"session\"]).cumcount(ascending=False)\n",
    "df['prev_order_cg_rank'] = df.groupby(['session','aid'])['order_cg_rank'].shift()\n",
    "df['hist_order'] = df[\"prev_order_cg_rank\"] - df[\"order_cg_rank\"]\n",
    "df.drop(columns=['order_cg_rank', 'prev_order_cg_rank'],inplace=True)\n",
    "\n",
    "print(\"ph4\")\n",
    "df.fillna(value={\"count_prev_click_action\":-1,\"count_prev_cart_action\":-1,\"count_prev_order_action\":-1},inplace=True)\n",
    "df.fillna(value={\"hist_click\":-1,\"hist_cart\":-1,\"hist_order\":-1},inplace=True)"
   ]
  },
  {
   "cell_type": "code",
   "execution_count": null,
   "id": "5df56341-0ac2-45aa-b392-2eecba5d2ff3",
   "metadata": {
    "tags": []
   },
   "outputs": [],
   "source": [
    "def add_action_num_reverse_chrono(df):\n",
    "        return df.select([\n",
    "            pl.col('*'),\n",
    "            pl.col('session').cumcount().reverse().over('session').alias('action_num_reverse_chrono')\n",
    "        ])\n",
    "\n",
    "def add_session_length(df):\n",
    "    return df.select([\n",
    "        pl.col('*'),\n",
    "        pl.col('session').count().over('session').alias('session_length')\n",
    "    ])\n",
    "\n",
    "def add_log_recency_score(df):\n",
    "    linear_interpolation = 0.1 + ((1-0.1) / (df['session_length']-1)) * (df['session_length']-df['action_num_reverse_chrono']-1)\n",
    "    return df.with_columns(pl.Series(2**linear_interpolation - 1).alias('log_recency_score')).fill_nan(1)\n",
    "\n",
    "def add_type_weighted_log_recency_score(df):\n",
    "    type_weights = {0:1, 1:6, 2:3}\n",
    "    type_weighted_log_recency_score = pl.Series(df['type'].apply(lambda x: type_weights[x]) * df['log_recency_score'])\n",
    "    return df.with_columns(type_weighted_log_recency_score.alias('type_weighted_log_recency_score'))\n",
    "\n",
    "def apply(df, pipeline):\n",
    "    for f in pipeline:\n",
    "        df = f(df)\n",
    "    return df\n",
    "\n",
    "pipeline = [add_action_num_reverse_chrono, add_session_length, add_log_recency_score, add_type_weighted_log_recency_score]\n",
    "df = apply(pl.from_pandas(df), pipeline).select(pl.exclude([\"sesssion_length\"])).to_pandas()\n",
    "df.drop(columns=[\"session_length\"],inplace=True)\n",
    "df.head()"
   ]
  },
  {
   "cell_type": "code",
   "execution_count": null,
   "id": "4f6a45f0-f0a9-44ae-859f-2bbe0d58018c",
   "metadata": {
    "tags": []
   },
   "outputs": [],
   "source": [
    "df.drop(columns=[\"index\"]).to_parquet(\"../data/features/user_item.pqt\",index=False)"
   ]
  },
  {
   "cell_type": "markdown",
   "id": "1a3cb199-4f78-49cb-a7e9-362d9ad9ec4d",
   "metadata": {},
   "source": [
    "## Generating Item Features"
   ]
  },
  {
   "cell_type": "code",
   "execution_count": null,
   "id": "97462546-805b-45e6-b9f8-a2dabe8ce294",
   "metadata": {
    "tags": []
   },
   "outputs": [],
   "source": [
    "train = load_data([],f'{data_dir}train_pqt_chunks/*')\n",
    "test = load_data([],f'{data_dir}test_pqt_chunks/*')\n",
    "df = pd.concat([train,test])\n",
    "del train,test\n",
    "df = df.sort_values(['session','ts']).reset_index()\n",
    "df.head()"
   ]
  },
  {
   "cell_type": "code",
   "execution_count": null,
   "id": "c7cc725e-b1fc-4981-958b-a625fa895bd6",
   "metadata": {
    "tags": []
   },
   "outputs": [],
   "source": [
    "dts = pd.to_datetime(df['ts'], unit='s') \n",
    "df['day'] = (dts.dt.weekday).astype('int8')\n",
    "df['hour'] = (dts.dt.hour).astype('int8')\n",
    "df['hm'] = (dts.dt.hour*100 + dts.dt.minute*100//60).astype('int16')\n",
    "df = df[[\"session\",\"aid\",\"type\",\"ts\",\"day\",\"hour\",\"hm\"]]"
   ]
  },
  {
   "cell_type": "code",
   "execution_count": null,
   "id": "2f03b51e-49d0-4cd4-97fd-809238761210",
   "metadata": {
    "tags": []
   },
   "outputs": [],
   "source": [
    "def first_mode(s):\n",
    "    modes = s.mode()  # Compute the modes\n",
    "    if not modes.empty:\n",
    "        return modes.iloc[0]  # Return the first mode value\n",
    "    else:\n",
    "        return None \n",
    "\n",
    "item_features = (df.groupby('aid').agg({'aid':'count',\n",
    "                                        'session':'nunique',\n",
    "                                        'type':'mean',\n",
    "                                        'day':first_mode,\n",
    "                                        'hour':'mean'})\n",
    "                .rename(columns = {\"aid\":\"item_overall_count\",\n",
    "                                   \"session\":\"item_unique_session\",\n",
    "                                   \"type\":\"item_type_score\",\n",
    "                                   \"day\":\"item_common_day\",\n",
    "                                   \"hour\":\"item_mean_hour\"})\n",
    "                .reset_index()\n",
    "                )"
   ]
  },
  {
   "cell_type": "code",
   "execution_count": null,
   "id": "cafd5841-dc3d-430f-9461-53c2cb501b34",
   "metadata": {
    "tags": []
   },
   "outputs": [],
   "source": [
    "def getitem_clk_car_order_counts(df):\n",
    "    x = pd.pivot_table(df, values='session', index='aid', columns='type',aggfunc='count').reset_index()\n",
    "    x = x.rename(columns={0:\"item_click_cnt\",1:\"item_cart_cnt\",2:\"item_order_cnt\"})\n",
    "    return x.fillna(0)\n",
    "\n",
    "temp = getitem_clk_car_order_counts(df)\n",
    "item_features = item_features.merge(temp,on=\"aid\",how=\"inner\")\n",
    "del temp"
   ]
  },
  {
   "cell_type": "code",
   "execution_count": null,
   "id": "e14a29d6-038d-45ed-9ca4-9e19f2c9f90a",
   "metadata": {
    "tags": []
   },
   "outputs": [],
   "source": [
    "item_features[\"item_click_rate\"] = item_features[\"item_click_cnt\"] / item_features[\"item_overall_count\"]\n",
    "item_features[\"item_cart_rate\"] = item_features[\"item_cart_cnt\"] / item_features[\"item_overall_count\"]\n",
    "item_features[\"item_order_rate\"] = item_features[\"item_order_cnt\"] / item_features[\"item_overall_count\"]\n",
    "item_features.head()"
   ]
  },
  {
   "cell_type": "code",
   "execution_count": null,
   "id": "a533280b-d0bb-4604-89c1-a939172a55b0",
   "metadata": {
    "tags": []
   },
   "outputs": [],
   "source": [
    "item_features.to_parquet(\"../data/features/item_feat.pqt\")"
   ]
  },
  {
   "cell_type": "code",
   "execution_count": null,
   "id": "9aeab3d4-d54b-4fa1-89cc-7af2e1df71d2",
   "metadata": {},
   "outputs": [],
   "source": []
  }
 ],
 "metadata": {
  "kernelspec": {
   "display_name": "Python 3 (ipykernel)",
   "language": "python",
   "name": "python3"
  },
  "language_info": {
   "codemirror_mode": {
    "name": "ipython",
    "version": 3
   },
   "file_extension": ".py",
   "mimetype": "text/x-python",
   "name": "python",
   "nbconvert_exporter": "python",
   "pygments_lexer": "ipython3",
   "version": "3.9.12"
  }
 },
 "nbformat": 4,
 "nbformat_minor": 5
}
